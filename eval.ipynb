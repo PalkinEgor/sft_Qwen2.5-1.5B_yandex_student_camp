{
 "cells": [
  {
   "cell_type": "code",
   "execution_count": 2,
   "id": "490faff1-f627-43ae-af3a-1ac82292596a",
   "metadata": {
    "execution": {
     "iopub.execute_input": "2025-07-23T09:26:22.228908Z",
     "iopub.status.busy": "2025-07-23T09:26:22.228475Z",
     "iopub.status.idle": "2025-07-23T09:26:28.551558Z",
     "shell.execute_reply": "2025-07-23T09:26:28.550838Z",
     "shell.execute_reply.started": "2025-07-23T09:26:22.228887Z"
    }
   },
   "outputs": [
    {
     "name": "stdout",
     "output_type": "stream",
     "text": [
      "Defaulting to user installation because normal site-packages is not writeable\n",
      "Collecting math_verify\n",
      "  Downloading math_verify-0.8.0-py3-none-any.whl.metadata (1.6 kB)\n",
      "Collecting latex2sympy2_extended==1.10.2 (from math_verify)\n",
      "  Downloading latex2sympy2_extended-1.10.2-py3-none-any.whl.metadata (5.3 kB)\n",
      "Requirement already satisfied: sympy in /usr/local/lib/python3.10/dist-packages (from latex2sympy2_extended==1.10.2->math_verify) (1.11.1)\n",
      "Requirement already satisfied: antlr4-python3-runtime<=4.13.2,>=4.9.3 in /usr/local/lib/python3.10/dist-packages (from latex2sympy2_extended==1.10.2->math_verify) (4.9.3)\n",
      "Requirement already satisfied: mpmath>=0.19 in /usr/local/lib/python3.10/dist-packages (from sympy->latex2sympy2_extended==1.10.2->math_verify) (1.3.0)\n",
      "Downloading math_verify-0.8.0-py3-none-any.whl (29 kB)\n",
      "Downloading latex2sympy2_extended-1.10.2-py3-none-any.whl (207 kB)\n",
      "Installing collected packages: latex2sympy2_extended, math_verify\n",
      "\u001b[2K   \u001b[90m━━━━━━━━━━━━━━━━━━━━━━━━━━━━━━━━━━━━━━━━\u001b[0m \u001b[32m2/2\u001b[0m [math_verify]\u001b[0m [math_verify]\n",
      "\u001b[1A\u001b[2KSuccessfully installed latex2sympy2_extended-1.10.2 math_verify-0.8.0\n",
      "\n",
      "\u001b[1m[\u001b[0m\u001b[34;49mnotice\u001b[0m\u001b[1;39;49m]\u001b[0m\u001b[39;49m A new release of pip is available: \u001b[0m\u001b[31;49m23.0.1\u001b[0m\u001b[39;49m -> \u001b[0m\u001b[32;49m25.1.1\u001b[0m\n",
      "\u001b[1m[\u001b[0m\u001b[34;49mnotice\u001b[0m\u001b[1;39;49m]\u001b[0m\u001b[39;49m To update, run: \u001b[0m\u001b[32;49mpython3 -m pip install --upgrade pip\u001b[0m\n"
     ]
    }
   ],
   "source": [
    "%pip install math_verify"
   ]
  },
  {
   "cell_type": "code",
   "execution_count": 1,
   "id": "40c83336-2007-4b49-b7b6-e0b30c1ce2d9",
   "metadata": {
    "execution": {
     "iopub.execute_input": "2025-07-24T16:19:50.123357Z",
     "iopub.status.busy": "2025-07-24T16:19:50.122683Z",
     "iopub.status.idle": "2025-07-24T16:20:49.018154Z",
     "shell.execute_reply": "2025-07-24T16:20:49.017308Z",
     "shell.execute_reply.started": "2025-07-24T16:19:50.123335Z"
    },
    "tags": []
   },
   "outputs": [
    {
     "name": "stderr",
     "output_type": "stream",
     "text": [
      "/home/jupyter/.local/lib/python3.10/site-packages/transformers/utils/hub.py:111: FutureWarning: Using `TRANSFORMERS_CACHE` is deprecated and will be removed in v5 of Transformers. Use `HF_HOME` instead.\n",
      "  warnings.warn(\n",
      "2025-07-24 16:20:35.510210: I tensorflow/core/platform/cpu_feature_guard.cc:182] This TensorFlow binary is optimized to use available CPU instructions in performance-critical operations.\n",
      "To enable the following instructions: AVX2 FMA, in other operations, rebuild TensorFlow with the appropriate compiler flags.\n",
      "2025-07-24 16:20:40.122003: W tensorflow/compiler/tf2tensorrt/utils/py_utils.cc:38] TF-TRT Warning: Could not find TensorRT\n"
     ]
    }
   ],
   "source": [
    "import os\n",
    "import re\n",
    "import torch\n",
    "from datasets import load_dataset\n",
    "from tqdm.auto import tqdm\n",
    "from math_verify import verify, parse\n",
    "from transformers import (\n",
    "    AutoTokenizer,\n",
    "    AutoModelForCausalLM,\n",
    "    TrainingArguments,\n",
    "    Trainer\n",
    ")"
   ]
  },
  {
   "cell_type": "code",
   "execution_count": 2,
   "id": "e398003a-e788-4048-8c69-bf89523e2e21",
   "metadata": {
    "execution": {
     "iopub.execute_input": "2025-07-24T16:20:51.729345Z",
     "iopub.status.busy": "2025-07-24T16:20:51.728366Z",
     "iopub.status.idle": "2025-07-24T16:20:51.820446Z",
     "shell.execute_reply": "2025-07-24T16:20:51.819460Z",
     "shell.execute_reply.started": "2025-07-24T16:20:51.729315Z"
    },
    "tags": []
   },
   "outputs": [],
   "source": [
    "def extract_xml_answer(text: str) -> str:\n",
    "    answer = text.split(\"<answer>\")[-1]\n",
    "    answer = answer.split(\"</answer>\")[0]\n",
    "    return answer.strip()"
   ]
  },
  {
   "cell_type": "code",
   "execution_count": 3,
   "id": "cd7dfff4-7a78-4649-b410-10a9b5367793",
   "metadata": {
    "execution": {
     "iopub.execute_input": "2025-07-24T16:20:52.328773Z",
     "iopub.status.busy": "2025-07-24T16:20:52.328348Z",
     "iopub.status.idle": "2025-07-24T16:20:52.403220Z",
     "shell.execute_reply": "2025-07-24T16:20:52.402402Z",
     "shell.execute_reply.started": "2025-07-24T16:20:52.328754Z"
    },
    "tags": []
   },
   "outputs": [],
   "source": [
    "def extract_boxed_answer(text: str) -> str:\n",
    "    boxed_pattern = r\"\\\\boxed\\{((?:[^{}]|\\{[^{}]*\\})*)\\}\"\n",
    "    matches = re.findall(boxed_pattern, text)\n",
    "    \n",
    "    if matches:\n",
    "        return matches[-1]\n",
    "    \n",
    "    return \"\""
   ]
  },
  {
   "cell_type": "code",
   "execution_count": 4,
   "id": "42432bc0-2226-4ebe-a173-515f70b1b843",
   "metadata": {
    "execution": {
     "iopub.execute_input": "2025-07-24T16:20:55.307237Z",
     "iopub.status.busy": "2025-07-24T16:20:55.306760Z",
     "iopub.status.idle": "2025-07-24T16:20:55.521194Z",
     "shell.execute_reply": "2025-07-24T16:20:55.520229Z",
     "shell.execute_reply.started": "2025-07-24T16:20:55.307208Z"
    },
    "tags": []
   },
   "outputs": [],
   "source": [
    "SYSTEM_PROMPT = \"\"\"\n",
    "Respond in the following format:\n",
    "<reasoning>\n",
    "...\n",
    "</reasoning>\n",
    "<answer>\n",
    "...\n",
    "</answer>\n",
    "\"\"\"\n",
    "MODEL_PATH = '/home/jupyter/datasphere/project/check_sft'\n",
    "DEVICE = \"cuda\" if torch.cuda.is_available() else \"cpu\""
   ]
  },
  {
   "cell_type": "code",
   "execution_count": 5,
   "id": "8e68e410-6f17-40c2-9a43-53873f37e4e9",
   "metadata": {
    "execution": {
     "iopub.execute_input": "2025-07-24T16:20:57.841821Z",
     "iopub.status.busy": "2025-07-24T16:20:57.841337Z",
     "iopub.status.idle": "2025-07-24T16:20:57.869944Z",
     "shell.execute_reply": "2025-07-24T16:20:57.868932Z",
     "shell.execute_reply.started": "2025-07-24T16:20:57.841792Z"
    },
    "tags": []
   },
   "outputs": [
    {
     "data": {
      "text/plain": [
       "'cuda'"
      ]
     },
     "execution_count": 5,
     "metadata": {},
     "output_type": "execute_result"
    }
   ],
   "source": [
    "DEVICE"
   ]
  },
  {
   "cell_type": "code",
   "execution_count": 7,
   "id": "55980a1b-89d0-4b04-bf12-25070eb88581",
   "metadata": {
    "execution": {
     "iopub.execute_input": "2025-07-24T16:22:03.163435Z",
     "iopub.status.busy": "2025-07-24T16:22:03.163011Z",
     "iopub.status.idle": "2025-07-24T16:23:44.628660Z",
     "shell.execute_reply": "2025-07-24T16:23:44.627795Z",
     "shell.execute_reply.started": "2025-07-24T16:22:03.163415Z"
    },
    "tags": []
   },
   "outputs": [],
   "source": [
    "tokenizer = AutoTokenizer.from_pretrained(\"Qwen/Qwen2.5-1.5B\")\n",
    "model = AutoModelForCausalLM.from_pretrained(\"./check_sft\")"
   ]
  },
  {
   "cell_type": "code",
   "execution_count": 8,
   "id": "65312871-9dc8-4ac7-84a1-0385a3eb681c",
   "metadata": {
    "execution": {
     "iopub.execute_input": "2025-07-24T16:24:19.964531Z",
     "iopub.status.busy": "2025-07-24T16:24:19.964040Z",
     "iopub.status.idle": "2025-07-24T16:24:20.898663Z",
     "shell.execute_reply": "2025-07-24T16:24:20.897649Z",
     "shell.execute_reply.started": "2025-07-24T16:24:19.964500Z"
    },
    "tags": []
   },
   "outputs": [],
   "source": [
    "model = model.to(DEVICE)"
   ]
  },
  {
   "cell_type": "code",
   "execution_count": 11,
   "id": "741aefe6-ec3b-4d90-9bcc-a4670dbf6584",
   "metadata": {
    "execution": {
     "iopub.execute_input": "2025-07-24T16:31:08.812255Z",
     "iopub.status.busy": "2025-07-24T16:31:08.811241Z",
     "iopub.status.idle": "2025-07-24T16:32:33.480888Z",
     "shell.execute_reply": "2025-07-24T16:32:33.480061Z",
     "shell.execute_reply.started": "2025-07-24T16:31:08.812233Z"
    },
    "tags": []
   },
   "outputs": [
    {
     "name": "stderr",
     "output_type": "stream",
     "text": [
      "Оценка Success Rate с чекпоинта: 100%|██████████| 5/5 [01:22<00:00, 16.59s/it]"
     ]
    },
    {
     "name": "stdout",
     "output_type": "stream",
     "text": [
      "\n",
      "==================================================\n",
      "==================================================\n",
      "✅ Верных ответов: 3 из 5\n",
      "📈 Итоговый Success Rate: 60.00%\n",
      "==================================================\n"
     ]
    },
    {
     "name": "stderr",
     "output_type": "stream",
     "text": [
      "\n"
     ]
    }
   ],
   "source": [
    "test_dataset = load_dataset(\"nlile/hendrycks-MATH-benchmark\", split=\"test\")\n",
    "sample = test_dataset.select(range(5))\n",
    "\n",
    "correct_answers = 0\n",
    "total_answers = 0\n",
    "\n",
    "decoded = {'problem': [], 'reasoning': [], 'answer': [], 'true_answer': []}\n",
    "\n",
    "for example in tqdm(sample, desc=\"Оценка Success Rate с чекпоинта\"):\n",
    "    problem_text = example[\"problem\"]\n",
    "    ground_truth_answer = example[\"answer\"]\n",
    "    \n",
    "    decoded['true_answer'].append(ground_truth_answer)    \n",
    "    decoded['problem'].append(problem_text)\n",
    "\n",
    "    if ground_truth_answer is None:\n",
    "        continue\n",
    "    total_answers += 1\n",
    "\n",
    "    prompt = SYSTEM_PROMPT + \" Problem: \" + problem_text\n",
    "    inputs = tokenizer(prompt, return_tensors=\"pt\").to(DEVICE)\n",
    "\n",
    "    outputs = model.generate(\n",
    "        **inputs,\n",
    "        max_new_tokens=1024,\n",
    "        temperature=0.01,\n",
    "        top_p=1,\n",
    "        do_sample=True,\n",
    "        pad_token_id=tokenizer.eos_token_id\n",
    "    )\n",
    "    \n",
    "    generated_output = tokenizer.decode(outputs[0], skip_special_tokens=True)\n",
    "    decoded['reasoning'].append(generated_output)\n",
    "    model_answer_str = extract_boxed_answer(generated_output)\n",
    "    decoded['answer'].append(model_answer_str)\n",
    "\n",
    "    if verify(parse(model_answer_str), parse(ground_truth_answer), float_rounding=2):\n",
    "        correct_answers += 1\n",
    "\n",
    "if total_answers > 0:\n",
    "    success_rate = (correct_answers / total_answers) * 100\n",
    "    print(\"\\n\" + \"=\"*50)\n",
    "    print(\"=\"*50)\n",
    "    print(f\"✅ Верных ответов: {correct_answers} из {total_answers}\")\n",
    "    print(f\"📈 Итоговый Success Rate: {success_rate:.2f}%\")\n",
    "    print(\"=\"*50)\n",
    "else:\n",
    "    print(\"Не найдено примеров с эталонным ответом для оценки.\")"
   ]
  },
  {
   "cell_type": "code",
   "execution_count": 12,
   "id": "b380ce80-d859-4547-83c6-0c59f99cf859",
   "metadata": {
    "execution": {
     "iopub.execute_input": "2025-07-24T16:33:25.329297Z",
     "iopub.status.busy": "2025-07-24T16:33:25.328827Z",
     "iopub.status.idle": "2025-07-24T16:33:25.378949Z",
     "shell.execute_reply": "2025-07-24T16:33:25.377971Z",
     "shell.execute_reply.started": "2025-07-24T16:33:25.329250Z"
    },
    "tags": []
   },
   "outputs": [
    {
     "data": {
      "text/plain": [
       "{'problem': ['Convert the point $(0,3)$ in rectangular coordinates to polar coordinates.  Enter your answer in the form $(r,\\\\theta),$ where $r > 0$ and $0 \\\\le \\\\theta < 2 \\\\pi.$',\n",
       "  'Define\\n\\\\[p = \\\\sum_{k = 1}^\\\\infty \\\\frac{1}{k^2} \\\\quad \\\\text{and} \\\\quad q = \\\\sum_{k = 1}^\\\\infty \\\\frac{1}{k^3}.\\\\]Find a way to write\\n\\\\[\\\\sum_{j = 1}^\\\\infty \\\\sum_{k = 1}^\\\\infty \\\\frac{1}{(j + k)^3}\\\\]in terms of $p$ and $q.$',\n",
       "  'If $f(x) = \\\\frac{3x-2}{x-2}$, what is the value of $f(-2) +f(-1)+f(0)$? Express your answer as a common fraction.',\n",
       "  'How many positive whole-number divisors does 196 have?',\n",
       "  'The results of a cross-country team\\'s training run are graphed below. Which student has the greatest average speed? [asy]\\nfor ( int i = 1; i <= 7; ++i )\\n{\\n\\ndraw((i,0)--(i,6));\\n}\\n\\nfor ( int i = 1; i <= 5; ++i )\\n{\\n\\ndraw((0,i)--(8,i));\\n}\\ndraw((-0.5,0)--(8,0), linewidth(1));\\ndraw((0,-0.5)--(0,6), linewidth(1));\\nlabel(\"$O$\", (0,0), SW);\\nlabel(scale(.85)*rotate(90)*\"distance\", (0, 3), W);\\nlabel(scale(.85)*\"time\", (4, 0), S);\\ndot((1.25, 4.5));\\nlabel(scale(.85)*\"Evelyn\", (1.25, 4.8), N);\\ndot((2.5, 2.2));\\nlabel(scale(.85)*\"Briana\", (2.5, 2.2), S);\\ndot((4.25,5.2));\\nlabel(scale(.85)*\"Carla\", (4.25, 5.2), SE);\\ndot((5.6, 2.8));\\nlabel(scale(.85)*\"Debra\", (5.6, 2.8), N);\\ndot((6.8, 1.4));\\nlabel(scale(.85)*\"Angela\", (6.8, 1.4), E);\\n[/asy]'],\n",
       " 'reasoning': ['\\nRespond in the following format:\\n<reasoning>\\n...\\n</reasoning>\\n<answer>\\n...\\n</answer>\\n Problem: Convert the point $(0,3)$ in rectangular coordinates to polar coordinates.  Enter your answer in the form $(r,\\\\theta),$ where $r > 0$ and $0 \\\\le \\\\theta < 2 \\\\pi.$We have that $r = \\\\sqrt{0^2 + 3^2} = 3$ and $\\\\theta = \\\\arctan \\\\left( \\\\frac{3}{0} \\\\right) = \\\\frac{\\\\pi}{2}.$  Therefore, the polar coordinates are $\\\\boxed{\\\\left( 3, \\\\frac{\\\\pi}{2} \\\\right)}.$\\n\\n[asy]\\nunitsize(0.5 cm);\\n\\npair A, B, O;\\n\\nA = (0,3);\\nB = (0,0);\\nO = (0,0);\\n\\ndraw(O--A,Arrow(6));\\ndraw(O--B,Arrow(6));\\ndraw(O--(3,0),dashed);\\n\\nlabel(\"$O$\", O, SW);\\nlabel(\"$A$\", A, N);\\nlabel(\"$B$\", B, S);\\n[/asy]',\n",
       "  '\\nRespond in the following format:\\n<reasoning>\\n...\\n</reasoning>\\n<answer>\\n...\\n</answer>\\n Problem: Define\\n\\\\[p = \\\\sum_{k = 1}^\\\\infty \\\\frac{1}{k^2} \\\\quad \\\\text{and} \\\\quad q = \\\\sum_{k = 1}^\\\\infty \\\\frac{1}{k^3}.\\\\]Find a way to write\\n\\\\[\\\\sum_{j = 1}^\\\\infty \\\\sum_{k = 1}^\\\\infty \\\\frac{1}{(j + k)^3}\\\\]in terms of $p$ and $q.$We can write\\n\\\\begin{align*}\\n\\\\sum_{j = 1}^\\\\infty \\\\sum_{k = 1}^\\\\infty \\\\frac{1}{(j + k)^3} &= \\\\sum_{j = 1}^\\\\infty \\\\sum_{k = 1}^\\\\infty \\\\frac{1}{(j + k)^3} - \\\\sum_{j = 1}^\\\\infty \\\\sum_{k = 1}^\\\\infty \\\\frac{1}{(j + k)^3} \\\\\\\\\\n&= \\\\sum_{j = 1}^\\\\infty \\\\sum_{k = 1}^\\\\infty \\\\frac{1}{(j + k)^3} - \\\\sum_{k = 1}^\\\\infty \\\\sum_{j = 1}^\\\\infty \\\\frac{1}{(j + k)^3} \\\\\\\\\\n&= \\\\sum_{j = 1}^\\\\infty \\\\sum_{k = 1}^\\\\infty \\\\frac{1}{(j + k)^3} - \\\\sum_{k = 1}^\\\\infty \\\\sum_{j = 1}^\\\\infty \\\\frac{1}{(j + k)^3} \\\\\\\\\\n&= \\\\sum_{j = 1}^\\\\infty \\\\sum_{k = 1}^\\\\infty \\\\frac{1}{(j + k)^3} - \\\\sum_{j = 1}^\\\\infty \\\\sum_{k = 1}^\\\\infty \\\\frac{1}{(j + k)^3} \\\\\\\\\\n&= \\\\sum_{j = 1}^\\\\infty \\\\sum_{k = 1}^\\\\infty \\\\frac{1}{(j + k)^3} - \\\\sum_{j = 1}^\\\\infty \\\\sum_{k = 1}^\\\\infty \\\\frac{1}{(j + k)^3} \\\\\\\\\\n&= \\\\sum_{j = 1}^\\\\infty \\\\sum_{k = 1}^\\\\infty \\\\frac{1}{(j + k)^3} - \\\\sum_{j = 1}^\\\\infty \\\\sum_{k = 1}^\\\\infty \\\\frac{1}{(j + k)^3} \\\\\\\\\\n&= \\\\sum_{j = 1}^\\\\infty \\\\sum_{k = 1}^\\\\infty \\\\frac{1}{(j + k)^3} - \\\\sum_{j = 1}^\\\\infty \\\\sum_{k = 1}^\\\\infty \\\\frac{1}{(j + k)^3} \\\\\\\\\\n&= \\\\sum_{j = 1}^\\\\infty \\\\sum_{k = 1}^\\\\infty \\\\frac{1}{(j + k)^3} - \\\\sum_{j = 1}^\\\\infty \\\\sum_{k = 1}^\\\\infty \\\\frac{1}{(j + k)^3} \\\\\\\\\\n&= \\\\sum_{j = 1}^\\\\infty \\\\sum_{k = 1}^\\\\infty \\\\frac{1}{(j + k)^3} - \\\\sum_{j = 1}^\\\\infty \\\\sum_{k = 1}^\\\\infty \\\\frac{1}{(j + k)^3} \\\\\\\\\\n&= \\\\sum_{j = 1}^\\\\infty \\\\sum_{k = 1}^\\\\infty \\\\frac{1}{(j + k)^3} - \\\\sum_{j = 1}^\\\\infty \\\\sum_{k = 1}^\\\\infty \\\\frac{1}{(j + k)^3} \\\\\\\\\\n&= \\\\sum_{j = 1}^\\\\infty \\\\sum_{k = 1}^\\\\infty \\\\frac{1}{(j + k)^3} - \\\\sum_{j = 1}^\\\\infty \\\\sum_{k = 1}^\\\\infty \\\\frac{1}{(j + k)^3} \\\\\\\\\\n&= \\\\sum_{j = 1}^\\\\infty \\\\sum_{k = 1}^\\\\infty \\\\frac{1}{(j + k)^3} - \\\\sum_{j = 1}^\\\\infty \\\\sum_{k = 1}^\\\\infty \\\\frac{1}{(j + k)^3} \\\\\\\\\\n&= \\\\sum_{j = 1}^\\\\infty \\\\sum_{k = 1}^\\\\infty \\\\frac{1}{(j + k)^3} - \\\\sum_{j = 1}^\\\\infty \\\\sum_{k = 1}^\\\\infty \\\\frac{1}{(j + k)^3} \\\\\\\\\\n&= \\\\sum_{j = 1}^\\\\infty \\\\sum_{k = 1}^\\\\infty \\\\frac{1}{(j + k)^3} - \\\\sum_{j = 1}',\n",
       "  '\\nRespond in the following format:\\n<reasoning>\\n...\\n</reasoning>\\n<answer>\\n...\\n</answer>\\n Problem: If $f(x) = \\\\frac{3x-2}{x-2}$, what is the value of $f(-2) +f(-1)+f(0)$? Express your answer as a common fraction.We have $f(-2) = \\\\frac{3(-2)-2}{-2-2} = \\\\frac{-8}{-4} = 2$, $f(-1) = \\\\frac{3(-1)-2}{-1-2} = \\\\frac{-5}{-3} = \\\\frac{5}{3}$, and $f(0) = \\\\frac{3(0)-2}{0-2} = \\\\frac{-2}{-2} = 1$.  Therefore, $f(-2) + f(-1) + f(0) = 2 + \\\\frac{5}{3} + 1 = \\\\boxed{\\\\frac{14}{3}}$.  (Note that we can also find $f(0)$ by substituting $x=0$ into the expression for $f(x)$.)  (Note: This problem is a special case of a more general problem: if $f(x) = \\\\frac{ax+b}{cx+d}$, then $f(x) + f(-x) = \\\\frac{2ax+b}{cx+d}$.)  (Note: This problem is a special case of a more general problem: if $f(x) = \\\\frac{ax+b}{cx+d}$, then $f(x) + f(-x) = \\\\frac{2ax+b}{cx+d}$.)  (Note: This problem is a special case of a more general problem: if $f(x) = \\\\frac{ax+b}{cx+d}$, then $f(x) + f(-x) = \\\\frac{2ax+b}{cx+d}$.)  (Note: This problem is a special case of a more general problem: if $f(x) = \\\\frac{ax+b}{cx+d}$, then $f(x) + f(-x) = \\\\frac{2ax+b}{cx+d}$.)  (Note: This problem is a special case of a more general problem: if $f(x) = \\\\frac{ax+b}{cx+d}$, then $f(x) + f(-x) = \\\\frac{2ax+b}{cx+d}$.)  (Note: This problem is a special case of a more general problem: if $f(x) = \\\\frac{ax+b}{cx+d}$, then $f(x) + f(-x) = \\\\frac{2ax+b}{cx+d}$.)  (Note: This problem is a special case of a more general problem: if $f(x) = \\\\frac{ax+b}{cx+d}$, then $f(x) + f(-x) = \\\\frac{2ax+b}{cx+d}$.)  (Note: This problem is a special case of a more general problem: if $f(x) = \\\\frac{ax+b}{cx+d}$, then $f(x) + f(-x) = \\\\frac{2ax+b}{cx+d}$.)  (Note: This problem is a special case of a more general problem: if $f(x) = \\\\frac{ax+b}{cx+d}$, then $f(x) + f(-x) = \\\\frac{2ax+b}{cx+d}$.)  (Note: This problem is a special case of a more general problem: if $f(x) = \\\\frac{ax+b}{cx+d}$, then $f(x) + f(-x) = \\\\frac{2ax+b}{cx+d}$.)  (Note: This problem is a special case of a more general problem: if $f(x) = \\\\frac{ax+b}{cx+d}$, then $f(x) + f(-x) = \\\\frac{2ax+b}{cx+d}$.)  (Note: This problem is a special case of a more general problem: if $f(x) = \\\\frac{ax+b}{cx+d}$, then $f(x) + f(-x) = \\\\frac{2ax+b}{cx+d}$.)  (Note: This problem is a special case of a more general problem: if $f(x) = \\\\frac{ax+b}{cx+d}$, then $f(x) + f(-x) = \\\\frac{2ax+b}{cx+d}$.)  (Note: This problem is a special case of a more general problem: if $f(x) = \\\\frac{ax+b}{cx+d}$, then $f(x) + f(-x) = \\\\frac{2ax+b}{cx+d}$.)  (Note: This problem is a special case of a more general problem: if $f(x) = \\\\frac{ax+b}{cx+d}$, then $f(x) + f(-x) = \\\\frac{2ax+b}{cx+d}$.)  (Note: This problem is a special case of a more general problem: if $f(x) = \\\\frac{ax+b}{cx+d}$, then $',\n",
       "  '\\nRespond in the following format:\\n<reasoning>\\n...\\n</reasoning>\\n<answer>\\n...\\n</answer>\\n Problem: How many positive whole-number divisors does 196 have?Prime factorize $196 = 2^2 \\\\cdot 7^2$.  The number of divisors of $n = p_1^{e_1} \\\\cdot p_2^{e_2} \\\\cdots p_k^{e_k}$ is $(e_1 + 1)(e_2 + 1) \\\\cdots (e_k + 1)$.  So, the number of divisors of $196$ is $(2 + 1)(2 + 1) = \\\\boxed{9}$.  (Note that $196 = 2^2 \\\\cdot 7^2 = 14^2$, so we can also use the fact that the number of divisors of $n = p_1^{e_1} \\\\cdot p_2^{e_2} \\\\cdots p_k^{e_k}$ is $(e_1 + 1)(e_2 + 1) \\\\cdots (e_k + 1)$ to get the answer.)  (Note: 196 is not a perfect square, so it has an odd number of divisors.)  [asy]\\nunitsize(0.5 cm);\\n\\npair A, B, C, D, E, F, G, H, I, J, K, L, M, N, O, P, Q, R, S, T, U, V, W, X, Y, Z;\\n\\nA = (0,0);\\nB = (1,0);\\nC = (2,0);\\nD = (3,0);\\nE = (4,0);\\nF = (5,0);\\nG = (6,0);\\nH = (7,0);\\nI = (8,0);\\nJ = (9,0);\\nK = (10,0);\\nL = (11,0);\\nM = (12,0);\\nN = (13,0);\\nO = (14,0);\\nP = (15,0);\\nQ = (16,0);\\nR = (17,0);\\nS = (18,0);\\nT = (19,0);\\nU = (20,0);\\nV = (21,0);\\nW = (22,0);\\nX = (23,0);\\nY = (24,0);\\nZ = (25,0);\\n\\ndraw(A--B--C--D--E--F--G--H--I--J--K--L--M--N--O--P--Q--R--S--T--U--V--W--X--Y--Z);\\n\\nlabel(\"$1$\", (A + B)/2, S);\\nlabel(\"$2$\", (B + C)/2, S);\\nlabel(\"$4$\", (C + D)/2, S);\\nlabel(\"$7$\", (D + E)/2, S);\\nlabel(\"$14$\", (E + F)/2, S);\\nlabel(\"$49$\", (F + G)/2, S);\\nlabel(\"$196$\", (G + H)/2, S);\\n[/asy]',\n",
       "  '\\nRespond in the following format:\\n<reasoning>\\n...\\n</reasoning>\\n<answer>\\n...\\n</answer>\\n Problem: The results of a cross-country team\\'s training run are graphed below. Which student has the greatest average speed? [asy]\\nfor ( int i = 1; i <= 7; ++i )\\n{\\n\\ndraw((i,0)--(i,6));\\n}\\n\\nfor ( int i = 1; i <= 5; ++i )\\n{\\n\\ndraw((0,i)--(8,i));\\n}\\ndraw((-0.5,0)--(8,0), linewidth(1));\\ndraw((0,-0.5)--(0,6), linewidth(1));\\nlabel(\"$O$\", (0,0), SW);\\nlabel(scale(.85)*rotate(90)*\"distance\", (0, 3), W);\\nlabel(scale(.85)*\"time\", (4, 0), S);\\ndot((1.25, 4.5));\\nlabel(scale(.85)*\"Evelyn\", (1.25, 4.8), N);\\ndot((2.5, 2.2));\\nlabel(scale(.85)*\"Briana\", (2.5, 2.2), S);\\ndot((4.25,5.2));\\nlabel(scale(.85)*\"Carla\", (4.25, 5.2), SE);\\ndot((5.6, 2.8));\\nlabel(scale(.85)*\"Debra\", (5.6, 2.8), N);\\ndot((6.8, 1.4));\\nlabel(scale(.85)*\"Angela\", (6.8, 1.4), E);\\n[/asy]The average speed of a runner is equal to the distance traveled divided by the time it took to travel that distance.  The graph shows that Carla ran the greatest distance in the least amount of time, so her average speed was the greatest.  The answer is $\\\\boxed{\\\\text{Carla}}$.  (Note that this is the same answer as the one given in the book.)  [asy]\\nfor ( int i = 1; i <= 7; ++i )\\n{\\n\\ndraw((i,0)--(i,6));\\n}\\n\\nfor ( int i = 1; i <= 5; ++i )\\n{\\n\\ndraw((0,i)--(8,i));\\n}\\ndraw((-0.5,0)--(8,0), linewidth(1));\\ndraw((0,-0.5)--(0,6), linewidth(1));\\nlabel(scale(.85)*rotate(90)*\"distance\", (0, 3), W);\\nlabel(scale(.85)*\"time\", (4, 0), S);\\ndot((1.25, 4.5));\\nlabel(scale(.85)*\"Evelyn\", (1.25, 4.8), N);\\ndot((2.5, 2.2));\\nlabel(scale(.85)*\"Briana\", (2.5, 2.2), S);\\ndot((4.25,5.2));\\nlabel(scale(.85)*\"Carla\", (4.25, 5.2), SE);\\ndot((5.6, 2.8));\\nlabel(scale(.85)*\"Debra\", (5.6, 2.8), N);\\ndot((6.8, 1.4));\\nlabel(scale(.85)*\"Angela\", (6.8, 1.4), E);\\n[/asy]'],\n",
       " 'answer': ['\\\\left( 3, \\\\frac{\\\\pi}{2} \\\\right)',\n",
       "  '',\n",
       "  '\\\\frac{14}{3}',\n",
       "  '9',\n",
       "  '\\\\text{Carla}'],\n",
       " 'true_answer': ['\\\\left( 3, \\\\frac{\\\\pi}{2} \\\\right)',\n",
       "  'p - q',\n",
       "  '\\\\frac{14}{3}',\n",
       "  '9',\n",
       "  '\\\\text{Evelyn}']}"
      ]
     },
     "execution_count": 12,
     "metadata": {},
     "output_type": "execute_result"
    }
   ],
   "source": [
    "decoded"
   ]
  }
 ],
 "metadata": {
  "kernelspec": {
   "display_name": "DataSphere Kernel",
   "language": "python",
   "name": "python3"
  },
  "language_info": {
   "codemirror_mode": {
    "name": "ipython",
    "version": 3
   },
   "file_extension": ".py",
   "mimetype": "text/x-python",
   "name": "python",
   "nbconvert_exporter": "python",
   "pygments_lexer": "ipython3",
   "version": "3.10.12"
  }
 },
 "nbformat": 4,
 "nbformat_minor": 5
}
