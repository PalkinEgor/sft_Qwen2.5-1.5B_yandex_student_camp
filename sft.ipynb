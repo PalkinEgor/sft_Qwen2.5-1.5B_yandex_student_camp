{
 "cells": [
  {
   "cell_type": "code",
   "execution_count": 1,
   "id": "278e706d-ba20-4261-a706-9bbb310f8a92",
   "metadata": {
    "execution": {
     "iopub.execute_input": "2025-07-23T07:44:36.916634Z",
     "iopub.status.busy": "2025-07-23T07:44:36.916299Z",
     "iopub.status.idle": "2025-07-23T07:47:54.857724Z",
     "shell.execute_reply": "2025-07-23T07:47:54.856961Z",
     "shell.execute_reply.started": "2025-07-23T07:44:36.916611Z"
    },
    "tags": []
   },
   "outputs": [
    {
     "name": "stdout",
     "output_type": "stream",
     "text": [
      "Defaulting to user installation because normal site-packages is not writeable\n",
      "Requirement already satisfied: pip in /kernel/lib/python3.10/site-packages (23.0.1)\n",
      "Collecting pip\n",
      "  Downloading pip-25.1.1-py3-none-any.whl.metadata (3.6 kB)\n",
      "Downloading pip-25.1.1-py3-none-any.whl (1.8 MB)\n",
      "\u001b[2K   \u001b[90m━━━━━━━━━━━━━━━━━━━━━━━━━━━━━━━━━━━━━━━━\u001b[0m \u001b[32m1.8/1.8 MB\u001b[0m \u001b[31m19.9 MB/s\u001b[0m eta \u001b[36m0:00:00\u001b[0m\n",
      "\u001b[?25hInstalling collected packages: pip\n",
      "\u001b[33m  WARNING: The scripts pip, pip3 and pip3.10 are installed in '/home/jupyter/.local/bin' which is not on PATH.\n",
      "  Consider adding this directory to PATH or, if you prefer to suppress this warning, use --no-warn-script-location.\u001b[0m\u001b[33m\n",
      "\u001b[0mSuccessfully installed pip-25.1.1\n",
      "\n",
      "\u001b[1m[\u001b[0m\u001b[34;49mnotice\u001b[0m\u001b[1;39;49m]\u001b[0m\u001b[39;49m A new release of pip is available: \u001b[0m\u001b[31;49m23.0.1\u001b[0m\u001b[39;49m -> \u001b[0m\u001b[32;49m25.1.1\u001b[0m\n",
      "\u001b[1m[\u001b[0m\u001b[34;49mnotice\u001b[0m\u001b[1;39;49m]\u001b[0m\u001b[39;49m To update, run: \u001b[0m\u001b[32;49mpython3 -m pip install --upgrade pip\u001b[0m\n",
      "Defaulting to user installation because normal site-packages is not writeable\n",
      "Collecting transformers==4.41.2\n",
      "  Downloading transformers-4.41.2-py3-none-any.whl.metadata (43 kB)\n",
      "Requirement already satisfied: filelock in /usr/local/lib/python3.10/dist-packages (from transformers==4.41.2) (3.12.2)\n",
      "Collecting huggingface-hub<1.0,>=0.23.0 (from transformers==4.41.2)\n",
      "  Downloading huggingface_hub-0.33.4-py3-none-any.whl.metadata (14 kB)\n",
      "Requirement already satisfied: numpy>=1.17 in /usr/local/lib/python3.10/dist-packages (from transformers==4.41.2) (1.22.4)\n",
      "Requirement already satisfied: packaging>=20.0 in /usr/local/lib/python3.10/dist-packages (from transformers==4.41.2) (23.1)\n",
      "Requirement already satisfied: pyyaml>=5.1 in /usr/local/lib/python3.10/dist-packages (from transformers==4.41.2) (6.0.1)\n",
      "Requirement already satisfied: regex!=2019.12.17 in /usr/local/lib/python3.10/dist-packages (from transformers==4.41.2) (2022.10.31)\n",
      "Requirement already satisfied: requests in /usr/local/lib/python3.10/dist-packages (from transformers==4.41.2) (2.27.1)\n",
      "Collecting tokenizers<0.20,>=0.19 (from transformers==4.41.2)\n",
      "  Downloading tokenizers-0.19.1-cp310-cp310-manylinux_2_17_x86_64.manylinux2014_x86_64.whl.metadata (6.7 kB)\n",
      "Collecting safetensors>=0.4.1 (from transformers==4.41.2)\n",
      "  Downloading safetensors-0.5.3-cp38-abi3-manylinux_2_17_x86_64.manylinux2014_x86_64.whl.metadata (3.8 kB)\n",
      "Requirement already satisfied: tqdm>=4.27 in /usr/local/lib/python3.10/dist-packages (from transformers==4.41.2) (4.65.0)\n",
      "Requirement already satisfied: fsspec>=2023.5.0 in /usr/local/lib/python3.10/dist-packages (from huggingface-hub<1.0,>=0.23.0->transformers==4.41.2) (2023.6.0)\n",
      "Requirement already satisfied: typing-extensions>=3.7.4.3 in /usr/local/lib/python3.10/dist-packages (from huggingface-hub<1.0,>=0.23.0->transformers==4.41.2) (4.7.1)\n",
      "Collecting hf-xet<2.0.0,>=1.1.2 (from huggingface-hub<1.0,>=0.23.0->transformers==4.41.2)\n",
      "  Downloading hf_xet-1.1.5-cp37-abi3-manylinux_2_17_x86_64.manylinux2014_x86_64.whl.metadata (879 bytes)\n",
      "Requirement already satisfied: urllib3<1.27,>=1.21.1 in /usr/local/lib/python3.10/dist-packages (from requests->transformers==4.41.2) (1.26.16)\n",
      "Requirement already satisfied: certifi>=2017.4.17 in /usr/local/lib/python3.10/dist-packages (from requests->transformers==4.41.2) (2023.7.22)\n",
      "Requirement already satisfied: charset-normalizer~=2.0.0 in /usr/local/lib/python3.10/dist-packages (from requests->transformers==4.41.2) (2.0.12)\n",
      "Requirement already satisfied: idna<4,>=2.5 in /usr/local/lib/python3.10/dist-packages (from requests->transformers==4.41.2) (3.4)\n",
      "Downloading transformers-4.41.2-py3-none-any.whl (9.1 MB)\n",
      "\u001b[2K   \u001b[90m━━━━━━━━━━━━━━━━━━━━━━━━━━━━━━━━━━━━━━━━\u001b[0m \u001b[32m9.1/9.1 MB\u001b[0m \u001b[31m30.0 MB/s\u001b[0m eta \u001b[36m0:00:00\u001b[0ma \u001b[36m0:00:01\u001b[0m\n",
      "\u001b[?25hDownloading huggingface_hub-0.33.4-py3-none-any.whl (515 kB)\n",
      "Downloading hf_xet-1.1.5-cp37-abi3-manylinux_2_17_x86_64.manylinux2014_x86_64.whl (3.1 MB)\n",
      "\u001b[2K   \u001b[90m━━━━━━━━━━━━━━━━━━━━━━━━━━━━━━━━━━━━━━━━\u001b[0m \u001b[32m3.1/3.1 MB\u001b[0m \u001b[31m127.5 MB/s\u001b[0m eta \u001b[36m0:00:00\u001b[0m\n",
      "\u001b[?25hDownloading tokenizers-0.19.1-cp310-cp310-manylinux_2_17_x86_64.manylinux2014_x86_64.whl (3.6 MB)\n",
      "\u001b[2K   \u001b[90m━━━━━━━━━━━━━━━━━━━━━━━━━━━━━━━━━━━━━━━━\u001b[0m \u001b[32m3.6/3.6 MB\u001b[0m \u001b[31m39.5 MB/s\u001b[0m eta \u001b[36m0:00:00\u001b[0m\n",
      "\u001b[?25hDownloading safetensors-0.5.3-cp38-abi3-manylinux_2_17_x86_64.manylinux2014_x86_64.whl (471 kB)\n",
      "Installing collected packages: safetensors, hf-xet, huggingface-hub, tokenizers, transformers\n",
      "\u001b[2K   \u001b[91m━━━━━━━━━━━━━━━━\u001b[0m\u001b[90m╺\u001b[0m\u001b[90m━━━━━━━━━━━━━━━━━━━━━━━\u001b[0m \u001b[32m2/5\u001b[0m [huggingface-hub]\u001b[33m  WARNING: The scripts huggingface-cli and tiny-agents are installed in '/home/jupyter/.local/bin' which is not on PATH.\n",
      "  Consider adding this directory to PATH or, if you prefer to suppress this warning, use --no-warn-script-location.\u001b[0m\u001b[33m\n",
      "\u001b[2K   \u001b[91m━━━━━━━━━━━━━━━━━━━━━━━━━━━━━━━━\u001b[0m\u001b[90m╺\u001b[0m\u001b[90m━━━━━━━\u001b[0m \u001b[32m4/5\u001b[0m [transformers]\u001b[33m  WARNING: The script transformers-cli is installed in '/home/jupyter/.local/bin' which is not on PATH.\n",
      "  Consider adding this directory to PATH or, if you prefer to suppress this warning, use --no-warn-script-location.\u001b[0m\u001b[33m\n",
      "\u001b[2K   \u001b[90m━━━━━━━━━━━━━━━━━━━━━━━━━━━━━━━━━━━━━━━━\u001b[0m \u001b[32m5/5\u001b[0m [transformers]\n",
      "\u001b[1A\u001b[2KSuccessfully installed hf-xet-1.1.5 huggingface-hub-0.33.4 safetensors-0.5.3 tokenizers-0.19.1 transformers-4.41.2\n",
      "\n",
      "\u001b[1m[\u001b[0m\u001b[34;49mnotice\u001b[0m\u001b[1;39;49m]\u001b[0m\u001b[39;49m A new release of pip is available: \u001b[0m\u001b[31;49m23.0.1\u001b[0m\u001b[39;49m -> \u001b[0m\u001b[32;49m25.1.1\u001b[0m\n",
      "\u001b[1m[\u001b[0m\u001b[34;49mnotice\u001b[0m\u001b[1;39;49m]\u001b[0m\u001b[39;49m To update, run: \u001b[0m\u001b[32;49mpython3 -m pip install --upgrade pip\u001b[0m\n",
      "Defaulting to user installation because normal site-packages is not writeable\n",
      "Looking in indexes: https://download.pytorch.org/whl/cu121\n",
      "Requirement already satisfied: torch in /usr/local/lib/python3.10/dist-packages (2.0.1+cu118)\n",
      "Requirement already satisfied: filelock in /usr/local/lib/python3.10/dist-packages (from torch) (3.12.2)\n",
      "Requirement already satisfied: typing-extensions in /usr/local/lib/python3.10/dist-packages (from torch) (4.7.1)\n",
      "Requirement already satisfied: sympy in /usr/local/lib/python3.10/dist-packages (from torch) (1.11.1)\n",
      "Requirement already satisfied: networkx in /usr/local/lib/python3.10/dist-packages (from torch) (3.1)\n",
      "Requirement already satisfied: jinja2 in /usr/local/lib/python3.10/dist-packages (from torch) (3.1.2)\n",
      "Requirement already satisfied: triton==2.0.0 in /usr/local/lib/python3.10/dist-packages (from torch) (2.0.0)\n",
      "Requirement already satisfied: cmake in /usr/local/lib/python3.10/dist-packages (from triton==2.0.0->torch) (3.25.2)\n",
      "Requirement already satisfied: lit in /usr/local/lib/python3.10/dist-packages (from triton==2.0.0->torch) (16.0.6)\n",
      "Requirement already satisfied: MarkupSafe>=2.0 in /usr/local/lib/python3.10/dist-packages (from jinja2->torch) (2.1.3)\n",
      "Requirement already satisfied: mpmath>=0.19 in /usr/local/lib/python3.10/dist-packages (from sympy->torch) (1.3.0)\n",
      "\n",
      "\u001b[1m[\u001b[0m\u001b[34;49mnotice\u001b[0m\u001b[1;39;49m]\u001b[0m\u001b[39;49m A new release of pip is available: \u001b[0m\u001b[31;49m23.0.1\u001b[0m\u001b[39;49m -> \u001b[0m\u001b[32;49m25.1.1\u001b[0m\n",
      "\u001b[1m[\u001b[0m\u001b[34;49mnotice\u001b[0m\u001b[1;39;49m]\u001b[0m\u001b[39;49m To update, run: \u001b[0m\u001b[32;49mpython3 -m pip install --upgrade pip\u001b[0m\n",
      "Defaulting to user installation because normal site-packages is not writeable\n",
      "Requirement already satisfied: huggingface_hub in /home/jupyter/.local/lib/python3.10/site-packages (0.33.4)\n",
      "Requirement already satisfied: filelock in /usr/local/lib/python3.10/dist-packages (from huggingface_hub) (3.12.2)\n",
      "Requirement already satisfied: fsspec>=2023.5.0 in /usr/local/lib/python3.10/dist-packages (from huggingface_hub) (2023.6.0)\n",
      "Requirement already satisfied: packaging>=20.9 in /usr/local/lib/python3.10/dist-packages (from huggingface_hub) (23.1)\n",
      "Requirement already satisfied: pyyaml>=5.1 in /usr/local/lib/python3.10/dist-packages (from huggingface_hub) (6.0.1)\n",
      "Requirement already satisfied: requests in /usr/local/lib/python3.10/dist-packages (from huggingface_hub) (2.27.1)\n",
      "Requirement already satisfied: tqdm>=4.42.1 in /usr/local/lib/python3.10/dist-packages (from huggingface_hub) (4.65.0)\n",
      "Requirement already satisfied: typing-extensions>=3.7.4.3 in /usr/local/lib/python3.10/dist-packages (from huggingface_hub) (4.7.1)\n",
      "Requirement already satisfied: hf-xet<2.0.0,>=1.1.2 in /home/jupyter/.local/lib/python3.10/site-packages (from huggingface_hub) (1.1.5)\n",
      "Requirement already satisfied: urllib3<1.27,>=1.21.1 in /usr/local/lib/python3.10/dist-packages (from requests->huggingface_hub) (1.26.16)\n",
      "Requirement already satisfied: certifi>=2017.4.17 in /usr/local/lib/python3.10/dist-packages (from requests->huggingface_hub) (2023.7.22)\n",
      "Requirement already satisfied: charset-normalizer~=2.0.0 in /usr/local/lib/python3.10/dist-packages (from requests->huggingface_hub) (2.0.12)\n",
      "Requirement already satisfied: idna<4,>=2.5 in /usr/local/lib/python3.10/dist-packages (from requests->huggingface_hub) (3.4)\n",
      "\n",
      "\u001b[1m[\u001b[0m\u001b[34;49mnotice\u001b[0m\u001b[1;39;49m]\u001b[0m\u001b[39;49m A new release of pip is available: \u001b[0m\u001b[31;49m23.0.1\u001b[0m\u001b[39;49m -> \u001b[0m\u001b[32;49m25.1.1\u001b[0m\n",
      "\u001b[1m[\u001b[0m\u001b[34;49mnotice\u001b[0m\u001b[1;39;49m]\u001b[0m\u001b[39;49m To update, run: \u001b[0m\u001b[32;49mpython3 -m pip install --upgrade pip\u001b[0m\n",
      "Defaulting to user installation because normal site-packages is not writeable\n",
      "Collecting datasets==3.6.0\n",
      "  Downloading datasets-3.6.0-py3-none-any.whl.metadata (19 kB)\n",
      "Requirement already satisfied: filelock in /usr/local/lib/python3.10/dist-packages (from datasets==3.6.0) (3.12.2)\n",
      "Requirement already satisfied: numpy>=1.17 in /usr/local/lib/python3.10/dist-packages (from datasets==3.6.0) (1.22.4)\n",
      "Collecting pyarrow>=15.0.0 (from datasets==3.6.0)\n",
      "  Downloading pyarrow-21.0.0-cp310-cp310-manylinux_2_28_x86_64.whl.metadata (3.3 kB)\n",
      "Collecting dill<0.3.9,>=0.3.0 (from datasets==3.6.0)\n",
      "  Downloading dill-0.3.8-py3-none-any.whl.metadata (10 kB)\n",
      "Requirement already satisfied: pandas in /usr/local/lib/python3.10/dist-packages (from datasets==3.6.0) (1.5.3)\n",
      "Collecting requests>=2.32.2 (from datasets==3.6.0)\n",
      "  Downloading requests-2.32.4-py3-none-any.whl.metadata (4.9 kB)\n",
      "Collecting tqdm>=4.66.3 (from datasets==3.6.0)\n",
      "  Downloading tqdm-4.67.1-py3-none-any.whl.metadata (57 kB)\n",
      "Collecting xxhash (from datasets==3.6.0)\n",
      "  Downloading xxhash-3.5.0-cp310-cp310-manylinux_2_17_x86_64.manylinux2014_x86_64.whl.metadata (12 kB)\n",
      "Collecting multiprocess<0.70.17 (from datasets==3.6.0)\n",
      "  Downloading multiprocess-0.70.16-py310-none-any.whl.metadata (7.2 kB)\n",
      "Requirement already satisfied: fsspec<=2025.3.0,>=2023.1.0 in /usr/local/lib/python3.10/dist-packages (from fsspec[http]<=2025.3.0,>=2023.1.0->datasets==3.6.0) (2023.6.0)\n",
      "Requirement already satisfied: huggingface-hub>=0.24.0 in /home/jupyter/.local/lib/python3.10/site-packages (from datasets==3.6.0) (0.33.4)\n",
      "Requirement already satisfied: packaging in /usr/local/lib/python3.10/dist-packages (from datasets==3.6.0) (23.1)\n",
      "Requirement already satisfied: pyyaml>=5.1 in /usr/local/lib/python3.10/dist-packages (from datasets==3.6.0) (6.0.1)\n",
      "Requirement already satisfied: aiohttp!=4.0.0a0,!=4.0.0a1 in /usr/local/lib/python3.10/dist-packages (from fsspec[http]<=2025.3.0,>=2023.1.0->datasets==3.6.0) (3.8.5)\n",
      "Requirement already satisfied: attrs>=17.3.0 in /usr/local/lib/python3.10/dist-packages (from aiohttp!=4.0.0a0,!=4.0.0a1->fsspec[http]<=2025.3.0,>=2023.1.0->datasets==3.6.0) (23.1.0)\n",
      "Requirement already satisfied: charset-normalizer<4.0,>=2.0 in /usr/local/lib/python3.10/dist-packages (from aiohttp!=4.0.0a0,!=4.0.0a1->fsspec[http]<=2025.3.0,>=2023.1.0->datasets==3.6.0) (2.0.12)\n",
      "Requirement already satisfied: multidict<7.0,>=4.5 in /usr/local/lib/python3.10/dist-packages (from aiohttp!=4.0.0a0,!=4.0.0a1->fsspec[http]<=2025.3.0,>=2023.1.0->datasets==3.6.0) (6.0.4)\n",
      "Requirement already satisfied: async-timeout<5.0,>=4.0.0a3 in /usr/local/lib/python3.10/dist-packages (from aiohttp!=4.0.0a0,!=4.0.0a1->fsspec[http]<=2025.3.0,>=2023.1.0->datasets==3.6.0) (4.0.2)\n",
      "Requirement already satisfied: yarl<2.0,>=1.0 in /usr/local/lib/python3.10/dist-packages (from aiohttp!=4.0.0a0,!=4.0.0a1->fsspec[http]<=2025.3.0,>=2023.1.0->datasets==3.6.0) (1.9.2)\n",
      "Requirement already satisfied: frozenlist>=1.1.1 in /usr/local/lib/python3.10/dist-packages (from aiohttp!=4.0.0a0,!=4.0.0a1->fsspec[http]<=2025.3.0,>=2023.1.0->datasets==3.6.0) (1.4.0)\n",
      "Requirement already satisfied: aiosignal>=1.1.2 in /usr/local/lib/python3.10/dist-packages (from aiohttp!=4.0.0a0,!=4.0.0a1->fsspec[http]<=2025.3.0,>=2023.1.0->datasets==3.6.0) (1.3.1)\n",
      "Requirement already satisfied: idna>=2.0 in /usr/local/lib/python3.10/dist-packages (from yarl<2.0,>=1.0->aiohttp!=4.0.0a0,!=4.0.0a1->fsspec[http]<=2025.3.0,>=2023.1.0->datasets==3.6.0) (3.4)\n",
      "Requirement already satisfied: typing-extensions>=3.7.4.3 in /usr/local/lib/python3.10/dist-packages (from huggingface-hub>=0.24.0->datasets==3.6.0) (4.7.1)\n",
      "Requirement already satisfied: hf-xet<2.0.0,>=1.1.2 in /home/jupyter/.local/lib/python3.10/site-packages (from huggingface-hub>=0.24.0->datasets==3.6.0) (1.1.5)\n",
      "Requirement already satisfied: urllib3<3,>=1.21.1 in /usr/local/lib/python3.10/dist-packages (from requests>=2.32.2->datasets==3.6.0) (1.26.16)\n",
      "Requirement already satisfied: certifi>=2017.4.17 in /usr/local/lib/python3.10/dist-packages (from requests>=2.32.2->datasets==3.6.0) (2023.7.22)\n",
      "Requirement already satisfied: python-dateutil>=2.8.1 in /usr/local/lib/python3.10/dist-packages (from pandas->datasets==3.6.0) (2.8.2)\n",
      "Requirement already satisfied: pytz>=2020.1 in /usr/local/lib/python3.10/dist-packages (from pandas->datasets==3.6.0) (2022.7.1)\n",
      "Requirement already satisfied: six>=1.5 in /usr/lib/python3/dist-packages (from python-dateutil>=2.8.1->pandas->datasets==3.6.0) (1.16.0)\n",
      "Downloading datasets-3.6.0-py3-none-any.whl (491 kB)\n",
      "Downloading dill-0.3.8-py3-none-any.whl (116 kB)\n",
      "Downloading multiprocess-0.70.16-py310-none-any.whl (134 kB)\n",
      "Downloading pyarrow-21.0.0-cp310-cp310-manylinux_2_28_x86_64.whl (42.7 MB)\n",
      "\u001b[2K   \u001b[90m━━━━━━━━━━━━━━━━━━━━━━━━━━━━━━━━━━━━━━━━\u001b[0m \u001b[32m42.7/42.7 MB\u001b[0m \u001b[31m101.4 MB/s\u001b[0m eta \u001b[36m0:00:00\u001b[0m00:01\u001b[0m00:01\u001b[0m\n",
      "\u001b[?25hDownloading requests-2.32.4-py3-none-any.whl (64 kB)\n",
      "Downloading tqdm-4.67.1-py3-none-any.whl (78 kB)\n",
      "Downloading xxhash-3.5.0-cp310-cp310-manylinux_2_17_x86_64.manylinux2014_x86_64.whl (194 kB)\n",
      "Installing collected packages: xxhash, tqdm, requests, pyarrow, dill, multiprocess, datasets\n",
      "\u001b[2K   \u001b[91m━━━━━\u001b[0m\u001b[91m╸\u001b[0m\u001b[90m━━━━━━━━━━━━━━━━━━━━━━━━━━━━━━━━━━\u001b[0m \u001b[32m1/7\u001b[0m [tqdm]\u001b[33m  WARNING: The script tqdm is installed in '/home/jupyter/.local/bin' which is not on PATH.\n",
      "  Consider adding this directory to PATH or, if you prefer to suppress this warning, use --no-warn-script-location.\u001b[0m\u001b[33m\n",
      "\u001b[2K   \u001b[91m━━━━━━━━━━━━━━━━━━━━━━━━━━━━━━━━━━\u001b[0m\u001b[90m╺\u001b[0m\u001b[90m━━━━━\u001b[0m \u001b[32m6/7\u001b[0m [datasets]ess]\u001b[33m  WARNING: The script datasets-cli is installed in '/home/jupyter/.local/bin' which is not on PATH.\n",
      "  Consider adding this directory to PATH or, if you prefer to suppress this warning, use --no-warn-script-location.\u001b[0m\u001b[33m\n",
      "\u001b[2K   \u001b[90m━━━━━━━━━━━━━━━━━━━━━━━━━━━━━━━━━━━━━━━━\u001b[0m \u001b[32m7/7\u001b[0m [datasets]6/7\u001b[0m [datasets]\n",
      "\u001b[1A\u001b[2K\u001b[31mERROR: pip's dependency resolver does not currently take into account all the packages that are installed. This behaviour is the source of the following dependency conflicts.\n",
      "cloud-ml 0.0.1 requires requests<=2.28.1,>=2.22.0, but you have requests 2.32.4 which is incompatible.\n",
      "pandas-gbq 0.17.9 requires pyarrow<10.0dev,>=3.0.0, but you have pyarrow 21.0.0 which is incompatible.\u001b[0m\u001b[31m\n",
      "\u001b[0mSuccessfully installed datasets-3.6.0 dill-0.3.8 multiprocess-0.70.16 pyarrow-21.0.0 requests-2.32.4 tqdm-4.67.1 xxhash-3.5.0\n",
      "\n",
      "\u001b[1m[\u001b[0m\u001b[34;49mnotice\u001b[0m\u001b[1;39;49m]\u001b[0m\u001b[39;49m A new release of pip is available: \u001b[0m\u001b[31;49m23.0.1\u001b[0m\u001b[39;49m -> \u001b[0m\u001b[32;49m25.1.1\u001b[0m\n",
      "\u001b[1m[\u001b[0m\u001b[34;49mnotice\u001b[0m\u001b[1;39;49m]\u001b[0m\u001b[39;49m To update, run: \u001b[0m\u001b[32;49mpython3 -m pip install --upgrade pip\u001b[0m\n",
      "Defaulting to user installation because normal site-packages is not writeable\n",
      "Collecting accelerate==1.7.0\n",
      "  Downloading accelerate-1.7.0-py3-none-any.whl.metadata (19 kB)\n",
      "Requirement already satisfied: numpy<3.0.0,>=1.17 in /usr/local/lib/python3.10/dist-packages (from accelerate==1.7.0) (1.22.4)\n",
      "Requirement already satisfied: packaging>=20.0 in /usr/local/lib/python3.10/dist-packages (from accelerate==1.7.0) (23.1)\n",
      "Requirement already satisfied: psutil in /kernel/lib/python3.10/site-packages (from accelerate==1.7.0) (7.0.0)\n",
      "Requirement already satisfied: pyyaml in /usr/local/lib/python3.10/dist-packages (from accelerate==1.7.0) (6.0.1)\n",
      "Requirement already satisfied: torch>=2.0.0 in /usr/local/lib/python3.10/dist-packages (from accelerate==1.7.0) (2.0.1+cu118)\n",
      "Requirement already satisfied: huggingface-hub>=0.21.0 in /home/jupyter/.local/lib/python3.10/site-packages (from accelerate==1.7.0) (0.33.4)\n",
      "Requirement already satisfied: safetensors>=0.4.3 in /home/jupyter/.local/lib/python3.10/site-packages (from accelerate==1.7.0) (0.5.3)\n",
      "Requirement already satisfied: filelock in /usr/local/lib/python3.10/dist-packages (from huggingface-hub>=0.21.0->accelerate==1.7.0) (3.12.2)\n",
      "Requirement already satisfied: fsspec>=2023.5.0 in /usr/local/lib/python3.10/dist-packages (from huggingface-hub>=0.21.0->accelerate==1.7.0) (2023.6.0)\n",
      "Requirement already satisfied: requests in /home/jupyter/.local/lib/python3.10/site-packages (from huggingface-hub>=0.21.0->accelerate==1.7.0) (2.32.4)\n",
      "Requirement already satisfied: tqdm>=4.42.1 in /home/jupyter/.local/lib/python3.10/site-packages (from huggingface-hub>=0.21.0->accelerate==1.7.0) (4.67.1)\n",
      "Requirement already satisfied: typing-extensions>=3.7.4.3 in /usr/local/lib/python3.10/dist-packages (from huggingface-hub>=0.21.0->accelerate==1.7.0) (4.7.1)\n",
      "Requirement already satisfied: hf-xet<2.0.0,>=1.1.2 in /home/jupyter/.local/lib/python3.10/site-packages (from huggingface-hub>=0.21.0->accelerate==1.7.0) (1.1.5)\n",
      "Requirement already satisfied: sympy in /usr/local/lib/python3.10/dist-packages (from torch>=2.0.0->accelerate==1.7.0) (1.11.1)\n",
      "Requirement already satisfied: networkx in /usr/local/lib/python3.10/dist-packages (from torch>=2.0.0->accelerate==1.7.0) (3.1)\n",
      "Requirement already satisfied: jinja2 in /usr/local/lib/python3.10/dist-packages (from torch>=2.0.0->accelerate==1.7.0) (3.1.2)\n",
      "Requirement already satisfied: triton==2.0.0 in /usr/local/lib/python3.10/dist-packages (from torch>=2.0.0->accelerate==1.7.0) (2.0.0)\n",
      "Requirement already satisfied: cmake in /usr/local/lib/python3.10/dist-packages (from triton==2.0.0->torch>=2.0.0->accelerate==1.7.0) (3.25.2)\n",
      "Requirement already satisfied: lit in /usr/local/lib/python3.10/dist-packages (from triton==2.0.0->torch>=2.0.0->accelerate==1.7.0) (16.0.6)\n",
      "Requirement already satisfied: MarkupSafe>=2.0 in /usr/local/lib/python3.10/dist-packages (from jinja2->torch>=2.0.0->accelerate==1.7.0) (2.1.3)\n",
      "Requirement already satisfied: charset_normalizer<4,>=2 in /usr/local/lib/python3.10/dist-packages (from requests->huggingface-hub>=0.21.0->accelerate==1.7.0) (2.0.12)\n",
      "Requirement already satisfied: idna<4,>=2.5 in /usr/local/lib/python3.10/dist-packages (from requests->huggingface-hub>=0.21.0->accelerate==1.7.0) (3.4)\n",
      "Requirement already satisfied: urllib3<3,>=1.21.1 in /usr/local/lib/python3.10/dist-packages (from requests->huggingface-hub>=0.21.0->accelerate==1.7.0) (1.26.16)\n",
      "Requirement already satisfied: certifi>=2017.4.17 in /usr/local/lib/python3.10/dist-packages (from requests->huggingface-hub>=0.21.0->accelerate==1.7.0) (2023.7.22)\n",
      "Requirement already satisfied: mpmath>=0.19 in /usr/local/lib/python3.10/dist-packages (from sympy->torch>=2.0.0->accelerate==1.7.0) (1.3.0)\n",
      "Downloading accelerate-1.7.0-py3-none-any.whl (362 kB)\n",
      "Installing collected packages: accelerate\n",
      "\u001b[33m  WARNING: The scripts accelerate, accelerate-config, accelerate-estimate-memory, accelerate-launch and accelerate-merge-weights are installed in '/home/jupyter/.local/bin' which is not on PATH.\n",
      "  Consider adding this directory to PATH or, if you prefer to suppress this warning, use --no-warn-script-location.\u001b[0m\u001b[33m\n",
      "\u001b[0mSuccessfully installed accelerate-1.7.0\n",
      "\n",
      "\u001b[1m[\u001b[0m\u001b[34;49mnotice\u001b[0m\u001b[1;39;49m]\u001b[0m\u001b[39;49m A new release of pip is available: \u001b[0m\u001b[31;49m23.0.1\u001b[0m\u001b[39;49m -> \u001b[0m\u001b[32;49m25.1.1\u001b[0m\n",
      "\u001b[1m[\u001b[0m\u001b[34;49mnotice\u001b[0m\u001b[1;39;49m]\u001b[0m\u001b[39;49m To update, run: \u001b[0m\u001b[32;49mpython3 -m pip install --upgrade pip\u001b[0m\n"
     ]
    }
   ],
   "source": [
    "%pip install --upgrade pip\n",
    "%pip install transformers==4.41.2\n",
    "%pip install torch --index-url https://download.pytorch.org/whl/cu121\n",
    "%pip install huggingface_hub\n",
    "%pip install datasets==3.6.0\n",
    "%pip install accelerate==1.7.0"
   ]
  },
  {
   "cell_type": "code",
   "execution_count": null,
   "id": "bc712a74-2775-4189-a0a1-feecf81bb037",
   "metadata": {
    "tags": []
   },
   "outputs": [],
   "source": [
    "%pip install datasets==3.6.0"
   ]
  },
  {
   "cell_type": "code",
   "execution_count": 1,
   "id": "6496b8e2-f486-45b1-9860-119b5e282466",
   "metadata": {
    "execution": {
     "iopub.execute_input": "2025-07-23T07:50:18.256835Z",
     "iopub.status.busy": "2025-07-23T07:50:18.256456Z",
     "iopub.status.idle": "2025-07-23T07:50:43.622945Z",
     "shell.execute_reply": "2025-07-23T07:50:43.621735Z",
     "shell.execute_reply.started": "2025-07-23T07:50:18.256809Z"
    },
    "tags": []
   },
   "outputs": [
    {
     "name": "stderr",
     "output_type": "stream",
     "text": [
      "/home/jupyter/.local/lib/python3.10/site-packages/transformers/utils/hub.py:124: FutureWarning: Using `TRANSFORMERS_CACHE` is deprecated and will be removed in v5 of Transformers. Use `HF_HOME` instead.\n",
      "  warnings.warn(\n",
      "2025-07-23 07:50:28.557666: I tensorflow/core/platform/cpu_feature_guard.cc:182] This TensorFlow binary is optimized to use available CPU instructions in performance-critical operations.\n",
      "To enable the following instructions: AVX2 FMA, in other operations, rebuild TensorFlow with the appropriate compiler flags.\n",
      "2025-07-23 07:50:34.757945: W tensorflow/compiler/tf2tensorrt/utils/py_utils.cc:38] TF-TRT Warning: Could not find TensorRT\n"
     ]
    }
   ],
   "source": [
    "import re\n",
    "import logging\n",
    "import torch\n",
    "from datasets import load_dataset, Dataset\n",
    "from transformers import (\n",
    "    AutoTokenizer,\n",
    "    AutoModelForCausalLM,\n",
    "    TrainingArguments,\n",
    "    Trainer\n",
    ")\n",
    "import accelerate"
   ]
  },
  {
   "cell_type": "code",
   "execution_count": 2,
   "id": "f750f1e7-4ef8-4e58-bfdb-08b8c55b6a34",
   "metadata": {
    "execution": {
     "iopub.execute_input": "2025-07-23T07:50:47.692846Z",
     "iopub.status.busy": "2025-07-23T07:50:47.692481Z",
     "iopub.status.idle": "2025-07-23T07:50:47.796373Z",
     "shell.execute_reply": "2025-07-23T07:50:47.795574Z",
     "shell.execute_reply.started": "2025-07-23T07:50:47.692824Z"
    },
    "tags": []
   },
   "outputs": [],
   "source": [
    "ANS_RE = re.compile(r'####\\s(.*)$', re.DOTALL)\n",
    "REMOVE_ANNOTATION = re.compile(r'<<.*?>>')\n",
    "MODEL_NAME = \"Qwen/Qwen2.5-1.5B\"\n",
    "OUTPUT_DIR = '/home/jupyter/datasphere/project/check_sft'"
   ]
  },
  {
   "cell_type": "code",
   "execution_count": 3,
   "id": "52660c6b-0de8-446e-b6bf-cdba5093c42f",
   "metadata": {
    "execution": {
     "iopub.execute_input": "2025-07-23T07:50:50.135258Z",
     "iopub.status.busy": "2025-07-23T07:50:50.134906Z",
     "iopub.status.idle": "2025-07-23T07:50:50.204689Z",
     "shell.execute_reply": "2025-07-23T07:50:50.203666Z",
     "shell.execute_reply.started": "2025-07-23T07:50:50.135238Z"
    },
    "tags": []
   },
   "outputs": [],
   "source": [
    "logging.basicConfig(\n",
    "    level=logging.INFO,\n",
    "    format=\"%(message)s\",\n",
    "    handlers=[logging.StreamHandler()]\n",
    ")"
   ]
  },
  {
   "cell_type": "code",
   "execution_count": 4,
   "id": "288db8ab-ae89-494f-8ed9-c2212b20eba2",
   "metadata": {
    "execution": {
     "iopub.execute_input": "2025-07-23T07:50:51.879049Z",
     "iopub.status.busy": "2025-07-23T07:50:51.878623Z",
     "iopub.status.idle": "2025-07-23T07:54:21.246972Z",
     "shell.execute_reply": "2025-07-23T07:54:21.245631Z",
     "shell.execute_reply.started": "2025-07-23T07:50:51.879030Z"
    },
    "tags": []
   },
   "outputs": [
    {
     "name": "stderr",
     "output_type": "stream",
     "text": [
      "Special tokens have been added in the vocabulary, make sure the associated word embeddings are fine-tuned or trained.\n"
     ]
    }
   ],
   "source": [
    "SYSTEM_PROMPT = \"\"\"\n",
    "Respond in the following format:\n",
    "<reasoning>\n",
    "...\n",
    "</reasoning>\n",
    "<answer>\n",
    "...\n",
    "</answer>\n",
    "\"\"\"\n",
    "tokenizer = AutoTokenizer.from_pretrained(MODEL_NAME, trust_remote_code=True)\n",
    "if tokenizer.pad_token is None:\n",
    "    tokenizer.pad_token = tokenizer.eos_token\n",
    "model = AutoModelForCausalLM.from_pretrained(MODEL_NAME, torch_dtype=torch.bfloat16, trust_remote_code=True)"
   ]
  },
  {
   "cell_type": "code",
   "execution_count": 5,
   "id": "b959db65-5ed8-4e3a-977e-2efd57ad9598",
   "metadata": {
    "execution": {
     "iopub.execute_input": "2025-07-23T07:54:28.718844Z",
     "iopub.status.busy": "2025-07-23T07:54:28.718446Z",
     "iopub.status.idle": "2025-07-23T07:54:41.325640Z",
     "shell.execute_reply": "2025-07-23T07:54:41.324821Z",
     "shell.execute_reply.started": "2025-07-23T07:54:28.718820Z"
    },
    "tags": []
   },
   "outputs": [
    {
     "data": {
      "text/plain": [
       "Embedding(151665, 1536)"
      ]
     },
     "execution_count": 5,
     "metadata": {},
     "output_type": "execute_result"
    }
   ],
   "source": [
    "model.resize_token_embeddings(len(tokenizer))"
   ]
  },
  {
   "cell_type": "code",
   "execution_count": 6,
   "id": "217002b0-6d16-4ae7-848c-09f3908a290f",
   "metadata": {
    "execution": {
     "iopub.execute_input": "2025-07-23T07:54:46.259865Z",
     "iopub.status.busy": "2025-07-23T07:54:46.259453Z",
     "iopub.status.idle": "2025-07-23T07:54:46.288616Z",
     "shell.execute_reply": "2025-07-23T07:54:46.287812Z",
     "shell.execute_reply.started": "2025-07-23T07:54:46.259844Z"
    },
    "tags": []
   },
   "outputs": [],
   "source": [
    "def get_hendrycks_math(split=\"train\") -> Dataset:\n",
    "    ds = load_dataset(\"nlile/hendrycks-MATH-benchmark\", split=split)\n",
    "    def preprocess(x):\n",
    "        # Составляем единый текстовый prompt\n",
    "        prompt = SYSTEM_PROMPT + \" Problem: \" + x[\"problem\"]\n",
    "        return {\n",
    "            \"prompt\": prompt,\n",
    "            \"solution\": x[\"solution\"],\n",
    "            \"answer\": x[\"answer\"],\n",
    "        }\n",
    "    return ds.map(preprocess, remove_columns=ds.column_names)"
   ]
  },
  {
   "cell_type": "code",
   "execution_count": 7,
   "id": "e27cddcd-6d89-4f18-b79b-e23851d857fb",
   "metadata": {
    "execution": {
     "iopub.execute_input": "2025-07-23T07:54:48.446518Z",
     "iopub.status.busy": "2025-07-23T07:54:48.446152Z",
     "iopub.status.idle": "2025-07-23T07:54:50.854319Z",
     "shell.execute_reply": "2025-07-23T07:54:50.853467Z",
     "shell.execute_reply.started": "2025-07-23T07:54:48.446498Z"
    },
    "tags": []
   },
   "outputs": [],
   "source": [
    "dataset = get_hendrycks_math()"
   ]
  },
  {
   "cell_type": "code",
   "execution_count": 8,
   "id": "0120e474-8025-4313-ad9f-9acb5ce8fcc9",
   "metadata": {
    "execution": {
     "iopub.execute_input": "2025-07-23T07:54:55.509559Z",
     "iopub.status.busy": "2025-07-23T07:54:55.509083Z",
     "iopub.status.idle": "2025-07-23T07:54:55.566029Z",
     "shell.execute_reply": "2025-07-23T07:54:55.564963Z",
     "shell.execute_reply.started": "2025-07-23T07:54:55.509536Z"
    },
    "tags": []
   },
   "outputs": [
    {
     "data": {
      "text/plain": [
       "{'solution': 'The denominator of the rational function factors into $x^2+x-6=(x-2)(x+3)$. Since the numerator is always nonzero, there is a vertical asymptote whenever the denominator is $0$, which occurs for $x = 2$ and $x = -3$.  Therefore, the graph has $\\\\boxed{2}$ vertical asymptotes.',\n",
       " 'answer': '2',\n",
       " 'prompt': '\\nRespond in the following format:\\n<reasoning>\\n...\\n</reasoning>\\n<answer>\\n...\\n</answer>\\n Problem: How many vertical asymptotes does the graph of $y=\\\\frac{2}{x^2+x-6}$ have?'}"
      ]
     },
     "execution_count": 8,
     "metadata": {},
     "output_type": "execute_result"
    }
   ],
   "source": [
    "dataset[0]"
   ]
  },
  {
   "cell_type": "code",
   "execution_count": 9,
   "id": "0ae30873-f644-434f-9ac2-95da2086878c",
   "metadata": {
    "execution": {
     "iopub.execute_input": "2025-07-23T07:54:57.240430Z",
     "iopub.status.busy": "2025-07-23T07:54:57.239927Z",
     "iopub.status.idle": "2025-07-23T07:54:57.262114Z",
     "shell.execute_reply": "2025-07-23T07:54:57.261300Z",
     "shell.execute_reply.started": "2025-07-23T07:54:57.240408Z"
    },
    "tags": []
   },
   "outputs": [],
   "source": [
    "def preprocess_function(examples):\n",
    "    processed_inputs = []\n",
    "    prompts   = examples[\"prompt\"]\n",
    "    solutions = examples[\"solution\"]\n",
    "    \n",
    "    for prompt, solution in zip(prompts, solutions):\n",
    "        # просто полный текст = prompt + решение\n",
    "        full_text = prompt + solution\n",
    "\n",
    "        # токенизируем без паддинга\n",
    "        full_toks = tokenizer(\n",
    "            full_text,\n",
    "            max_length=512,\n",
    "            truncation=True,\n",
    "            padding=False,\n",
    "            return_tensors=None,\n",
    "            add_special_tokens=False\n",
    "        )\n",
    "        prompt_toks = tokenizer(\n",
    "            prompt,\n",
    "            max_length=512,\n",
    "            truncation=True,\n",
    "            padding=False,\n",
    "            return_tensors=None,\n",
    "            add_special_tokens=False\n",
    "        )\n",
    "\n",
    "        input_ids      = full_toks[\"input_ids\"]\n",
    "        attention_mask = full_toks[\"attention_mask\"]\n",
    "        labels         = input_ids.copy()\n",
    "\n",
    "        # маскируем всё, что относится к prompt\n",
    "        prompt_len = len(prompt_toks[\"input_ids\"])\n",
    "        if prompt_len < len(labels):\n",
    "            labels[:prompt_len] = [-100] * prompt_len\n",
    "        else:\n",
    "            labels = [-100] * len(labels)\n",
    "\n",
    "        processed_inputs.append({\n",
    "            \"input_ids\":      input_ids,\n",
    "            \"attention_mask\": attention_mask,\n",
    "            \"labels\":         labels,\n",
    "        })\n",
    "\n",
    "    return {\n",
    "        \"input_ids\":      [x[\"input_ids\"]      for x in processed_inputs],\n",
    "        \"attention_mask\":[x[\"attention_mask\"] for x in processed_inputs],\n",
    "        \"labels\":         [x[\"labels\"]         for x in processed_inputs],\n",
    "    }\n"
   ]
  },
  {
   "cell_type": "code",
   "execution_count": 10,
   "id": "ec929ed4-e2cf-4881-9af3-1273549da0f8",
   "metadata": {
    "execution": {
     "iopub.execute_input": "2025-07-23T07:54:58.795635Z",
     "iopub.status.busy": "2025-07-23T07:54:58.795201Z",
     "iopub.status.idle": "2025-07-23T07:54:59.403769Z",
     "shell.execute_reply": "2025-07-23T07:54:59.402908Z",
     "shell.execute_reply.started": "2025-07-23T07:54:58.795614Z"
    },
    "tags": []
   },
   "outputs": [],
   "source": [
    "tokenized_datasets = dataset.map(\n",
    "    preprocess_function,\n",
    "    batched=True,\n",
    "    remove_columns=dataset.column_names  # удаляем старые поля\n",
    ")\n"
   ]
  },
  {
   "cell_type": "code",
   "execution_count": 11,
   "id": "e9211902-d8b9-4ebd-8cfc-0c63ad656281",
   "metadata": {
    "execution": {
     "iopub.execute_input": "2025-07-23T07:55:01.923787Z",
     "iopub.status.busy": "2025-07-23T07:55:01.923277Z",
     "iopub.status.idle": "2025-07-23T07:55:01.979984Z",
     "shell.execute_reply": "2025-07-23T07:55:01.979154Z",
     "shell.execute_reply.started": "2025-07-23T07:55:01.923761Z"
    },
    "tags": []
   },
   "outputs": [],
   "source": [
    "class CustomDataCollator:\n",
    "    def __init__(self, tokenizer, max_length=512):\n",
    "        self.tokenizer = tokenizer\n",
    "        self.max_length = max_length\n",
    "\n",
    "    def __call__(self, features):\n",
    "        input_ids = [f[\"input_ids\"] for f in features]\n",
    "        attention_mask = [f[\"attention_mask\"] for f in features]\n",
    "        labels = [f[\"labels\"] for f in features]\n",
    "\n",
    "        max_len = min(max(len(ids) for ids in input_ids), self.max_length)\n",
    "\n",
    "        padded_input_ids = []\n",
    "        padded_attention_mask = []\n",
    "        padded_labels = []\n",
    "\n",
    "        for ids, mask, label in zip(input_ids, attention_mask, labels):\n",
    "            ids = ids[:max_len]\n",
    "            mask = mask[:max_len]\n",
    "            label = label[:max_len]\n",
    "\n",
    "            pad_length = max_len - len(ids)\n",
    "            if pad_length > 0:\n",
    "                ids += [self.tokenizer.pad_token_id] * pad_length\n",
    "                mask += [0] * pad_length\n",
    "                label += [-100] * pad_length\n",
    "\n",
    "            padded_input_ids.append(ids)\n",
    "            padded_attention_mask.append(mask)\n",
    "            padded_labels.append(label)\n",
    "\n",
    "        return {\n",
    "            \"input_ids\": torch.tensor(padded_input_ids, dtype=torch.long),\n",
    "            \"attention_mask\": torch.tensor(padded_attention_mask, dtype=torch.long),\n",
    "            \"labels\": torch.tensor(padded_labels, dtype=torch.long)\n",
    "        }"
   ]
  },
  {
   "cell_type": "code",
   "execution_count": 12,
   "id": "c82ea0f9-8ab6-4fdd-b30a-365bf9c6ed69",
   "metadata": {
    "execution": {
     "iopub.execute_input": "2025-07-23T07:55:03.875568Z",
     "iopub.status.busy": "2025-07-23T07:55:03.875051Z",
     "iopub.status.idle": "2025-07-23T07:55:03.891172Z",
     "shell.execute_reply": "2025-07-23T07:55:03.889909Z",
     "shell.execute_reply.started": "2025-07-23T07:55:03.875536Z"
    },
    "tags": []
   },
   "outputs": [],
   "source": [
    "data_collator = CustomDataCollator(tokenizer)"
   ]
  },
  {
   "cell_type": "code",
   "execution_count": 13,
   "id": "2c09c81b-9685-416e-807f-de324d329855",
   "metadata": {
    "execution": {
     "iopub.execute_input": "2025-07-23T07:55:05.665222Z",
     "iopub.status.busy": "2025-07-23T07:55:05.664818Z",
     "iopub.status.idle": "2025-07-23T07:55:05.682338Z",
     "shell.execute_reply": "2025-07-23T07:55:05.681542Z",
     "shell.execute_reply.started": "2025-07-23T07:55:05.665189Z"
    },
    "tags": []
   },
   "outputs": [],
   "source": [
    "import os\n",
    "import matplotlib.pyplot as plt\n",
    "from transformers import TrainerCallback, TrainingArguments, Trainer"
   ]
  },
  {
   "cell_type": "code",
   "execution_count": 14,
   "id": "ddc50812-1530-407c-a064-e2dd466ffb60",
   "metadata": {
    "execution": {
     "iopub.execute_input": "2025-07-23T07:55:10.395129Z",
     "iopub.status.busy": "2025-07-23T07:55:10.394567Z",
     "iopub.status.idle": "2025-07-23T07:55:10.415278Z",
     "shell.execute_reply": "2025-07-23T07:55:10.414476Z",
     "shell.execute_reply.started": "2025-07-23T07:55:10.395092Z"
    },
    "tags": []
   },
   "outputs": [],
   "source": [
    "class TrainingMetricsCallback(TrainerCallback):\n",
    "    def __init__(self):\n",
    "        self.train_loss = []\n",
    "\n",
    "    def on_log(self, args, state, control, logs=None, **kwargs):\n",
    "        # будем ловить при каждом логировании 'loss'\n",
    "        if logs is None:\n",
    "            return\n",
    "        if \"loss\" in logs:\n",
    "            self.train_loss.append(logs[\"loss\"])\n",
    "\n",
    "    def plot(self, output_dir):\n",
    "        os.makedirs(output_dir, exist_ok=True)\n",
    "        plt.figure(figsize=(6,4))\n",
    "        plt.plot(self.train_loss, label=\"train_loss\")\n",
    "        plt.xlabel(\"logging steps\")\n",
    "        plt.ylabel(\"loss\")\n",
    "        plt.legend()\n",
    "        plt.tight_layout()\n",
    "        plt.savefig(os.path.join(output_dir, \"train_loss.png\"))\n",
    "        plt.close()"
   ]
  },
  {
   "cell_type": "code",
   "execution_count": 15,
   "id": "1ea644a7-f057-401e-bdb7-fd951f3a124d",
   "metadata": {
    "execution": {
     "iopub.execute_input": "2025-07-23T07:55:12.532215Z",
     "iopub.status.busy": "2025-07-23T07:55:12.531730Z",
     "iopub.status.idle": "2025-07-23T07:55:12.544960Z",
     "shell.execute_reply": "2025-07-23T07:55:12.544186Z",
     "shell.execute_reply.started": "2025-07-23T07:55:12.532181Z"
    },
    "tags": []
   },
   "outputs": [],
   "source": [
    "metrics_cb = TrainingMetricsCallback()"
   ]
  },
  {
   "cell_type": "code",
   "execution_count": 18,
   "id": "ba596fe5-ce89-4723-a20f-c6254f124139",
   "metadata": {
    "execution": {
     "iopub.execute_input": "2025-07-23T07:55:33.547964Z",
     "iopub.status.busy": "2025-07-23T07:55:33.547514Z",
     "iopub.status.idle": "2025-07-23T07:55:33.565479Z",
     "shell.execute_reply": "2025-07-23T07:55:33.564669Z",
     "shell.execute_reply.started": "2025-07-23T07:55:33.547942Z"
    },
    "tags": []
   },
   "outputs": [],
   "source": [
    "logging_dir = '/home/jupyter/datasphere/project/log_dir'"
   ]
  },
  {
   "cell_type": "code",
   "execution_count": 22,
   "id": "2131c763-261f-4210-ab18-a5fb5ca2908c",
   "metadata": {
    "execution": {
     "iopub.execute_input": "2025-07-23T07:58:07.488753Z",
     "iopub.status.busy": "2025-07-23T07:58:07.488312Z",
     "iopub.status.idle": "2025-07-23T07:58:07.527121Z",
     "shell.execute_reply": "2025-07-23T07:58:07.526176Z",
     "shell.execute_reply.started": "2025-07-23T07:58:07.488732Z"
    },
    "tags": []
   },
   "outputs": [],
   "source": [
    "training_args = TrainingArguments(\n",
    "    per_device_train_batch_size=2,\n",
    "    gradient_accumulation_steps=16,\n",
    "    num_train_epochs=2,\n",
    "    learning_rate=2e-5,\n",
    "    weight_decay=1e-3,\n",
    "    lr_scheduler_type=\"cosine\",\n",
    "    warmup_ratio=0.1,\n",
    "    bf16=True,\n",
    "    label_names=[\"labels\"],\n",
    "    \n",
    "    report_to='none',\n",
    "    \n",
    "    logging_steps=35,\n",
    "    logging_strategy='steps',\n",
    "    logging_first_step=True,\n",
    "    logging_dir=logging_dir,\n",
    "    \n",
    "    save_strategy=\"no\",\n",
    "    output_dir=OUTPUT_DIR\n",
    "    \n",
    "    # output_dir=OUTPUT_DIR,\n",
    "    # save_strategy=\"steps\",\n",
    "    # save_steps=200,\n",
    "    # save_total_limit=2    \n",
    "    \n",
    "    #per_device_eval_batch_size=8\n",
    "    # do_eval=False,\n",
    "    # evaluation_strategy=\"steps\",\n",
    "    # eval_steps=100,\n",
    "    # load_best_model_at_end=True,   \n",
    ")"
   ]
  },
  {
   "cell_type": "code",
   "execution_count": 23,
   "id": "93fe7f51-2008-4be3-b414-fe179ed093ff",
   "metadata": {
    "execution": {
     "iopub.execute_input": "2025-07-23T07:58:08.355811Z",
     "iopub.status.busy": "2025-07-23T07:58:08.355429Z",
     "iopub.status.idle": "2025-07-23T07:58:08.381717Z",
     "shell.execute_reply": "2025-07-23T07:58:08.380892Z",
     "shell.execute_reply.started": "2025-07-23T07:58:08.355783Z"
    },
    "tags": []
   },
   "outputs": [],
   "source": [
    "trainer = Trainer(\n",
    "    model=model,\n",
    "    args=training_args,\n",
    "    train_dataset=tokenized_datasets,\n",
    "    data_collator=data_collator,\n",
    "    tokenizer=tokenizer,\n",
    "    callbacks=[metrics_cb]\n",
    ")"
   ]
  },
  {
   "cell_type": "code",
   "execution_count": 24,
   "id": "0933df41-f217-4369-99f3-ed6447f9bc88",
   "metadata": {
    "execution": {
     "iopub.execute_input": "2025-07-23T07:58:11.003124Z",
     "iopub.status.busy": "2025-07-23T07:58:11.002455Z",
     "iopub.status.idle": "2025-07-23T08:23:33.941837Z",
     "shell.execute_reply": "2025-07-23T08:23:33.940897Z",
     "shell.execute_reply.started": "2025-07-23T07:58:11.003099Z"
    },
    "tags": []
   },
   "outputs": [
    {
     "name": "stderr",
     "output_type": "stream",
     "text": [
      "  0%|          | 1/750 [00:04<56:31,  4.53s/it]"
     ]
    },
    {
     "name": "stdout",
     "output_type": "stream",
     "text": [
      "{'loss': 0.8374, 'grad_norm': 6.9375, 'learning_rate': 2.666666666666667e-07, 'epoch': 0.0}\n"
     ]
    },
    {
     "name": "stderr",
     "output_type": "stream",
     "text": [
      "  5%|▍         | 35/750 [01:13<24:17,  2.04s/it]"
     ]
    },
    {
     "name": "stdout",
     "output_type": "stream",
     "text": [
      "{'loss': 0.7248, 'grad_norm': 3.96875, 'learning_rate': 9.333333333333334e-06, 'epoch': 0.09}\n"
     ]
    },
    {
     "name": "stderr",
     "output_type": "stream",
     "text": [
      "  9%|▉         | 70/750 [02:24<22:25,  1.98s/it]"
     ]
    },
    {
     "name": "stdout",
     "output_type": "stream",
     "text": [
      "{'loss': 0.6482, 'grad_norm': 2.78125, 'learning_rate': 1.866666666666667e-05, 'epoch': 0.19}\n"
     ]
    },
    {
     "name": "stderr",
     "output_type": "stream",
     "text": [
      " 14%|█▍        | 105/750 [03:35<21:43,  2.02s/it]"
     ]
    },
    {
     "name": "stdout",
     "output_type": "stream",
     "text": [
      "{'loss': 0.6306, 'grad_norm': 2.15625, 'learning_rate': 1.9902680687415704e-05, 'epoch': 0.28}\n"
     ]
    },
    {
     "name": "stderr",
     "output_type": "stream",
     "text": [
      " 19%|█▊        | 140/750 [04:46<20:49,  2.05s/it]"
     ]
    },
    {
     "name": "stdout",
     "output_type": "stream",
     "text": [
      "{'loss': 0.6277, 'grad_norm': 2.671875, 'learning_rate': 1.954587632247732e-05, 'epoch': 0.37}\n"
     ]
    },
    {
     "name": "stderr",
     "output_type": "stream",
     "text": [
      " 23%|██▎       | 175/750 [05:58<19:33,  2.04s/it]"
     ]
    },
    {
     "name": "stdout",
     "output_type": "stream",
     "text": [
      "{'loss': 0.6329, 'grad_norm': 2.484375, 'learning_rate': 1.8936326403234125e-05, 'epoch': 0.47}\n"
     ]
    },
    {
     "name": "stderr",
     "output_type": "stream",
     "text": [
      " 28%|██▊       | 210/750 [07:09<18:16,  2.03s/it]"
     ]
    },
    {
     "name": "stdout",
     "output_type": "stream",
     "text": [
      "{'loss': 0.6523, 'grad_norm': 2.171875, 'learning_rate': 1.8090169943749477e-05, 'epoch': 0.56}\n"
     ]
    },
    {
     "name": "stderr",
     "output_type": "stream",
     "text": [
      " 33%|███▎      | 245/750 [08:19<16:50,  2.00s/it]"
     ]
    },
    {
     "name": "stdout",
     "output_type": "stream",
     "text": [
      "{'loss': 0.6212, 'grad_norm': 2.109375, 'learning_rate': 1.702981057425662e-05, 'epoch': 0.65}\n"
     ]
    },
    {
     "name": "stderr",
     "output_type": "stream",
     "text": [
      " 37%|███▋      | 280/750 [09:29<15:29,  1.98s/it]"
     ]
    },
    {
     "name": "stdout",
     "output_type": "stream",
     "text": [
      "{'loss': 0.6278, 'grad_norm': 2.734375, 'learning_rate': 1.5783323361679865e-05, 'epoch': 0.75}\n"
     ]
    },
    {
     "name": "stderr",
     "output_type": "stream",
     "text": [
      " 42%|████▏     | 315/750 [10:39<14:20,  1.98s/it]"
     ]
    },
    {
     "name": "stdout",
     "output_type": "stream",
     "text": [
      "{'loss': 0.6166, 'grad_norm': 2.25, 'learning_rate': 1.4383711467890776e-05, 'epoch': 0.84}\n"
     ]
    },
    {
     "name": "stderr",
     "output_type": "stream",
     "text": [
      " 47%|████▋     | 350/750 [11:49<13:37,  2.04s/it]"
     ]
    },
    {
     "name": "stdout",
     "output_type": "stream",
     "text": [
      "{'loss': 0.6061, 'grad_norm': 2.09375, 'learning_rate': 1.2868032327110904e-05, 'epoch': 0.93}\n"
     ]
    },
    {
     "name": "stderr",
     "output_type": "stream",
     "text": [
      " 51%|█████▏    | 385/750 [12:59<12:22,  2.03s/it]"
     ]
    },
    {
     "name": "stdout",
     "output_type": "stream",
     "text": [
      "{'loss': 0.5991, 'grad_norm': 1.921875, 'learning_rate': 1.127641647860595e-05, 'epoch': 1.03}\n"
     ]
    },
    {
     "name": "stderr",
     "output_type": "stream",
     "text": [
      " 56%|█████▌    | 420/750 [14:08<11:08,  2.03s/it]"
     ]
    },
    {
     "name": "stdout",
     "output_type": "stream",
     "text": [
      "{'loss': 0.5821, 'grad_norm': 2.359375, 'learning_rate': 9.651005032974994e-06, 'epoch': 1.12}\n"
     ]
    },
    {
     "name": "stderr",
     "output_type": "stream",
     "text": [
      " 61%|██████    | 455/750 [15:19<09:50,  2.00s/it]"
     ]
    },
    {
     "name": "stdout",
     "output_type": "stream",
     "text": [
      "{'loss': 0.5693, 'grad_norm': 2.109375, 'learning_rate': 8.034833904671698e-06, 'epoch': 1.21}\n"
     ]
    },
    {
     "name": "stderr",
     "output_type": "stream",
     "text": [
      " 65%|██████▌   | 490/750 [16:30<09:02,  2.09s/it]"
     ]
    },
    {
     "name": "stdout",
     "output_type": "stream",
     "text": [
      "{'loss': 0.573, 'grad_norm': 2.78125, 'learning_rate': 6.4706943528613135e-06, 'epoch': 1.31}\n"
     ]
    },
    {
     "name": "stderr",
     "output_type": "stream",
     "text": [
      " 70%|███████   | 525/750 [17:42<07:48,  2.08s/it]"
     ]
    },
    {
     "name": "stdout",
     "output_type": "stream",
     "text": [
      "{'loss': 0.5876, 'grad_norm': 2.3125, 'learning_rate': 5.000000000000003e-06, 'epoch': 1.4}\n"
     ]
    },
    {
     "name": "stderr",
     "output_type": "stream",
     "text": [
      " 75%|███████▍  | 560/750 [18:52<06:15,  1.98s/it]"
     ]
    },
    {
     "name": "stdout",
     "output_type": "stream",
     "text": [
      "{'loss': 0.568, 'grad_norm': 2.21875, 'learning_rate': 3.661690326012897e-06, 'epoch': 1.49}\n"
     ]
    },
    {
     "name": "stderr",
     "output_type": "stream",
     "text": [
      " 79%|███████▉  | 595/750 [20:04<05:14,  2.03s/it]"
     ]
    },
    {
     "name": "stdout",
     "output_type": "stream",
     "text": [
      "{'loss': 0.5594, 'grad_norm': 2.234375, 'learning_rate': 2.4911996701850083e-06, 'epoch': 1.59}\n"
     ]
    },
    {
     "name": "stderr",
     "output_type": "stream",
     "text": [
      " 84%|████████▍ | 630/750 [21:15<04:04,  2.04s/it]"
     ]
    },
    {
     "name": "stdout",
     "output_type": "stream",
     "text": [
      "{'loss': 0.5782, 'grad_norm': 2.5, 'learning_rate': 1.5195190384357405e-06, 'epoch': 1.68}\n"
     ]
    },
    {
     "name": "stderr",
     "output_type": "stream",
     "text": [
      " 89%|████████▊ | 665/750 [22:27<02:52,  2.03s/it]"
     ]
    },
    {
     "name": "stdout",
     "output_type": "stream",
     "text": [
      "{'loss': 0.5759, 'grad_norm': 2.328125, 'learning_rate': 7.723755564455771e-07, 'epoch': 1.77}\n"
     ]
    },
    {
     "name": "stderr",
     "output_type": "stream",
     "text": [
      " 93%|█████████▎| 700/750 [23:39<01:42,  2.05s/it]"
     ]
    },
    {
     "name": "stdout",
     "output_type": "stream",
     "text": [
      "{'loss': 0.5549, 'grad_norm': 2.3125, 'learning_rate': 2.6955129420176193e-07, 'epoch': 1.87}\n"
     ]
    },
    {
     "name": "stderr",
     "output_type": "stream",
     "text": [
      " 98%|█████████▊| 735/750 [24:52<00:30,  2.07s/it]"
     ]
    },
    {
     "name": "stdout",
     "output_type": "stream",
     "text": [
      "{'loss': 0.5706, 'grad_norm': 2.0, 'learning_rate': 2.4359497401758026e-08, 'epoch': 1.96}\n"
     ]
    },
    {
     "name": "stderr",
     "output_type": "stream",
     "text": [
      "100%|██████████| 750/750 [25:22<00:00,  2.03s/it]"
     ]
    },
    {
     "name": "stdout",
     "output_type": "stream",
     "text": [
      "{'train_runtime': 1522.6553, 'train_samples_per_second': 15.762, 'train_steps_per_second': 0.493, 'train_loss': 0.6046233045260111, 'epoch': 2.0}\n"
     ]
    },
    {
     "name": "stderr",
     "output_type": "stream",
     "text": [
      "\n"
     ]
    },
    {
     "data": {
      "text/plain": [
       "TrainOutput(global_step=750, training_loss=0.6046233045260111, metrics={'train_runtime': 1522.6553, 'train_samples_per_second': 15.762, 'train_steps_per_second': 0.493, 'total_flos': 6.793175227923456e+16, 'train_loss': 0.6046233045260111, 'epoch': 2.0})"
      ]
     },
     "execution_count": 24,
     "metadata": {},
     "output_type": "execute_result"
    }
   ],
   "source": [
    "trainer.train()"
   ]
  },
  {
   "cell_type": "code",
   "execution_count": 26,
   "id": "feee7179-46e9-47ac-8029-95d5adff860d",
   "metadata": {
    "execution": {
     "iopub.execute_input": "2025-07-23T08:27:47.449201Z",
     "iopub.status.busy": "2025-07-23T08:27:47.448723Z",
     "iopub.status.idle": "2025-07-23T08:31:13.780209Z",
     "shell.execute_reply": "2025-07-23T08:31:13.779305Z",
     "shell.execute_reply.started": "2025-07-23T08:27:47.449179Z"
    }
   },
   "outputs": [],
   "source": [
    "trainer.save_model(\"/home/jupyter/datasphere/project/check_sft\")"
   ]
  }
 ],
 "metadata": {
  "kernelspec": {
   "display_name": "DataSphere Kernel",
   "language": "python",
   "name": "python3"
  },
  "language_info": {
   "codemirror_mode": {
    "name": "ipython",
    "version": 3
   },
   "file_extension": ".py",
   "mimetype": "text/x-python",
   "name": "python",
   "nbconvert_exporter": "python",
   "pygments_lexer": "ipython3",
   "version": "3.10.12"
  }
 },
 "nbformat": 4,
 "nbformat_minor": 5
}
